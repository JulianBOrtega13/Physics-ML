{
 "cells": [
  {
   "cell_type": "markdown",
   "id": "3a6703a7-3953-488d-9902-c30a4e09fda9",
   "metadata": {},
   "source": [
    "# Lab Report 3\n",
    "\n",
    "## Julian Bermudez-Ortega (2126339)"
   ]
  },
  {
   "cell_type": "code",
   "execution_count": 1,
   "id": "2d5a8e48-7c7c-4e0f-9c5d-3caf15bc9a47",
   "metadata": {},
   "outputs": [],
   "source": [
    "import matplotlib.pyplot as plt\n",
    "\n",
    "import torch \n",
    "import torchvision\n",
    "import numpy as np"
   ]
  },
  {
   "cell_type": "code",
   "execution_count": 3,
   "id": "dcab5cbd-5ba1-4799-af23-01c79058768b",
   "metadata": {},
   "outputs": [
    {
     "name": "stdout",
     "output_type": "stream",
     "text": [
      "(1000, 28, 28) (1000,)\n",
      "(100, 28, 28) (100,)\n"
     ]
    }
   ],
   "source": [
    "# Loading the dataset\n",
    "\n",
    "mnist_train_features = np.load('mnist_train_features.npy')\n",
    "mnist_train_targets = np.load('mnist_train_targets.npy')\n",
    "\n",
    "mnist_test_features = np.load('mnist_test_features.npy')\n",
    "mnist_test_targets = np.load('mnist_test_targets.npy')\n",
    "\n",
    "print(mnist_train_features.shape, mnist_train_targets.shape)\n",
    "\n",
    "print(mnist_test_features.shape, mnist_test_targets.shape)"
   ]
  },
  {
   "cell_type": "code",
   "execution_count": 4,
   "id": "a405967f-3530-4109-bdf3-9fa3a9ab8f3a",
   "metadata": {},
   "outputs": [
    {
     "data": {
      "text/plain": [
       "<matplotlib.image.AxesImage at 0x29f5ae1a850>"
      ]
     },
     "execution_count": 4,
     "metadata": {},
     "output_type": "execute_result"
    },
    {
     "data": {
      "image/png": "[encoded data removed]",
      "text/plain": [
       "<Figure size 1000x1000 with 3 Axes>"
      ]
     },
     "metadata": {},
     "output_type": "display_data"
    }
   ],
   "source": [
    "# Visualizing some of the samples\n",
    "\n",
    "plt.figure(figsize = (10, 10))\n",
    "\n",
    "plt.subplot(1, 3, 1)\n",
    "plt.imshow(mnist_train_features[0], cmap = 'Greys')\n",
    "\n",
    "plt.subplot(1, 3, 2)\n",
    "plt.imshow(mnist_train_features[1], cmap = 'Greys')\n",
    "\n",
    "plt.subplot(1, 3, 3)\n",
    "plt.imshow(mnist_train_features[2], cmap = 'Greys')"
   ]
  },
  {
   "cell_type": "code",
   "execution_count": 14,
   "id": "9124cfce-e6a1-4178-abff-b2ce205fa692",
   "metadata": {},
   "outputs": [
    {
     "name": "stdout",
     "output_type": "stream",
     "text": [
      "(784000, 1) (78400, 1)\n"
     ]
    }
   ],
   "source": [
    "# Flatten the images using the reshape function\n",
    "\n",
    "mnist_train_features = np.reshape(mnist_train_features, (np.size(mnist_train_features), 1))\n",
    "\n",
    "mnist_test_features = np.reshape(mnist_test_features, (np.size(mnist_test_features), 1))\n",
    "\n",
    "print(mnist_train_features.shape, mnist_test_features.shape)"
   ]
  },
  {
   "cell_type": "code",
   "execution_count": 17,
   "id": "bb50b6c0-da97-406c-90df-73b8c412d13c",
   "metadata": {},
   "outputs": [],
   "source": [
    "# Scale the dataset\n",
    "\n",
    "mnist_train_features = (mnist_train_features - np.mean(mnist_train_features[:,0])) / np.std(mnist_train_features[:,0])\n",
    "\n",
    "mnist_test_features = (mnist_test_features - np.mean(mnist_test_features[:,0])) / np.std(mnist_test_features[:,0])"
   ]
  },
  {
   "cell_type": "markdown",
   "id": "cb4afc58-daa7-4c50-9168-6b22efc56935",
   "metadata": {},
   "source": [
    "mnist_validation_features = "
   ]
  }
 ],
 "metadata": {
  "kernelspec": {
   "display_name": "Python 3 (ipykernel)",
   "language": "python",
   "name": "python3"
  },
  "language_info": {
   "codemirror_mode": {
    "name": "ipython",
    "version": 3
   },
   "file_extension": ".py",
   "mimetype": "text/x-python",
   "name": "python",
   "nbconvert_exporter": "python",
   "pygments_lexer": "ipython3",
   "version": "3.11.7"
  }
 },
 "nbformat": 4,
 "nbformat_minor": 5
}
